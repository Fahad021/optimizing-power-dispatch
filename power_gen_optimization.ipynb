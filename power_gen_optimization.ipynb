{
 "cells": [
  {
   "cell_type": "markdown",
   "metadata": {},
   "source": [
    "# Optimal Economic Dispatch in Distribution Feeders with Renewables using Convex Optimization\n",
    "---\n",
    "## Summary\n",
    "This project utilizes convex optimization with application to the economic dispatch problem in power systems. The purpose of this is to optimally schedule distributed energy generators in a distribution feeder to minimize economic costs, while maintaining safe operating constraints. I utilize the convex DistFlow equations of Baran & Wu, which model power flow through radial distribution power networks. These equations model active & reactive power, branch power flow limits, node voltage limits, etc. This was completed as part of a class project in my MS program. Thanks to Prof. Scott Moura for providing data and overall framework on this. \n",
    "\n",
    "The mathematical formulation of this problem is not included in this document, although it is necessary to understand the constraints and forumlas presented in this notebook.\n",
    "\n",
    "## Key questions explored\n",
    "- Can we dispatch generators in a electrical network to minimize cost?\n",
    "- How does the solution change when considering variable renewable generation?\n",
    "\n",
    "## Techniques used\n",
    "- convex optimization and relaxation\n",
    "- energy systems engineering\n",
    "- second-order cone programming to deal with stochasticity\n",
    "\n",
    "## Key findings\n",
    "- As we increase the complexity of the model, we add more constraints to power flow. This increases the minimum cost.\n",
    "- The cost when considering renewable generation is slightly than if there were no renewables. This makes sense because renewables are variable and we don't know exactly how much power will be available from them. Thus, if we include renewables in our power flow schedule, we’ve introduced uncertainty and thus risk. There is a cost associated with this risk.\n",
    "\n",
    "## Download cvxpy\n",
    "`pip install cvxpy`\n",
    "\n",
    "See directions here: https://www.cvxpy.org/install/\n",
    "\n",
    "I recommend creating a separate pip virtualenv before installing."
   ]
  },
  {
   "cell_type": "code",
   "execution_count": 1,
   "metadata": {},
   "outputs": [],
   "source": [
    "import numpy as np\n",
    "import matplotlib.pyplot as plt\n",
    "from cvxpy import *\n",
    "%matplotlib inline\n",
    "import pandas as pd"
   ]
  },
  {
   "cell_type": "markdown",
   "metadata": {},
   "source": [
    "### 1. Define network parameters for the IEEE 13-node test feeder"
   ]
  },
  {
   "cell_type": "code",
   "execution_count": 2,
   "metadata": {},
   "outputs": [],
   "source": [
    "# Node (aka Bus) Data\n",
    "# l_j^P: Active power consumption [MW]\n",
    "l_P = np.array([0, 0.2, 0, 0.4, 0.17, 0.23, 1.155, \n",
    "                0, 0.17, 0.843, 0, 0.17, 0.128])\n",
    "\n",
    "# l_j^Q: Reactive power consumption [MVAr]\n",
    "l_Q = np.array([0, 0.116, 0, 0.29, 0.125, 0.132, \n",
    "                0.66, 0, 0.151, 0.462, 0, 0.08, 0.086])\n",
    "\n",
    "# l_j^S: Apparent power consumption [MVA]\n",
    "l_S = np.sqrt(l_P**2 + l_Q**2)\n",
    "\n",
    "# s_j,max: Maximal generating power [MW]\n",
    "s_max = np.array([5, 0, 0, 3, 0, 0, 0, 0, 0, 3, 0, 0, 0])\n",
    "\n",
    "# c_j: Marginal generation cost [USD/MW]\n",
    "c = np.array([100, 0, 0, 150, 0, 0, 0, 0, 0, 50, 0, 0, 0])\n",
    "\n",
    "# V_min, V_max: Minimum and maximum nodal voltages [V]\n",
    "v_min = 0.95\n",
    "v_max = 1.05\n",
    "\n",
    "### Edge (aka Line) Data\n",
    "# r_ij: Resistance [p.u.]\n",
    "r = np.array([\n",
    "[0, 0.007547918, 0, 0, 0, 0, 0, 0, 0, 0, 0, 0, 0],\n",
    "[0, 0, 0.0041, 0, 0.007239685, 0, 0.007547918, 0, 0, 0, 0, 0, 0],\n",
    "[0, 0, 0, 0, 0, 0, 0, 0, 0, 0, 0, 0, 0],\n",
    "[0, 0, 0, 0, 0, 0, 0, 0, 0, 0, 0, 0, 0],\n",
    "[0, 0, 0, 0, 0, 0.004343811, 0, 0, 0, 0, 0, 0, 0],\n",
    "[0, 0, 0, 0, 0, 0, 0, 0, 0, 0, 0, 0, 0],\n",
    "[0, 0, 0, 0, 0, 0, 0, 0.003773959, 0, 0, 0.004322245, 0, 0],\n",
    "[0, 0, 0, 0, 0, 0, 0, 0, 0, 0, 0, 0, 0],\n",
    "[0, 0, 0, 0, 0, 0, 0, 0, 0, 0.00434686, 0, 0, 0],\n",
    "[0, 0, 0, 0, 0, 0, 0, 0, 0, 0, 0, 0, 0],\n",
    "[0, 0, 0, 0, 0, 0, 0, 0, 0, 0, 0, 0.004343157, 0.01169764],\n",
    "[0, 0, 0, 0, 0, 0, 0, 0, 0, 0, 0, 0, 0],\n",
    "[0, 0, 0, 0, 0, 0, 0, 0, 0, 0, 0, 0, 0]])\n",
    "\n",
    "# x_ij: Reactance [p.u.]\n",
    "x = np.array([\n",
    "[0, 0.022173236, 0, 0, 0, 0, 0, 0, 0, 0, 0, 0, 0],\n",
    "[0, 0, 0.0064, 0, 0.007336076, 0, 0.022173236, 0, 0, 0, 0, 0, 0],\n",
    "[0, 0, 0, 0, 0, 0, 0, 0, 0, 0, 0, 0, 0],\n",
    "[0, 0, 0, 0, 0, 0, 0, 0, 0, 0, 0, 0, 0],\n",
    "[0, 0, 0, 0, 0, 0.004401645, 0, 0, 0, 0, 0, 0, 0],\n",
    "[0, 0, 0, 0, 0, 0, 0, 0, 0, 0, 0, 0, 0],\n",
    "[0, 0, 0, 0, 0, 0, 0, 0.011086618, 0, 0, 0.004433667, 0, 0],\n",
    "[0, 0, 0, 0, 0, 0, 0, 0, 0, 0, 0, 0, 0],\n",
    "[0, 0, 0, 0, 0, 0, 0, 0, 0, 0.002430473, 0, 0, 0],\n",
    "[0, 0, 0, 0, 0, 0, 0, 0, 0, 0, 0, 0, 0],\n",
    "[0, 0, 0, 0, 0, 0, 0, 0, 0, 0, 0, 0.004402952, 0.004490848],\n",
    "[0, 0, 0, 0, 0, 0, 0, 0, 0, 0, 0, 0, 0],\n",
    "[0, 0, 0, 0, 0, 0, 0, 0, 0, 0, 0, 0, 0]])\n",
    "\n",
    "# I_max_ij: Maximal line current [p.u.]\n",
    "I_max = np.array([\n",
    "[0, 3.0441, 0, 0, 0, 0, 0, 0, 0, 0, 0, 0, 0],\n",
    "[0, 0, 1.4178, 0, 0.9591, 0, 3.0441, 0, 0, 0, 0, 0, 0],\n",
    "[0, 0, 0, 3.1275, 0, 0, 0, 0, 0, 0, 0, 0, 0],\n",
    "[0, 0, 0, 0, 0, 0, 0, 0, 0, 0, 0, 0, 0],\n",
    "[0, 0, 0, 0, 0, 0.9591, 0, 0, 0, 0, 0, 0, 0],\n",
    "[0, 0, 0, 0, 0, 0, 0, 0, 0, 0, 0, 0, 0],\n",
    "[0, 0, 0, 0, 0, 0, 0, 3.0441, 3.1275, 0, 0.9591, 0, 0],\n",
    "[0, 0, 0, 0, 0, 0, 0, 0, 0, 0, 0, 0, 0],\n",
    "[0, 0, 0, 0, 0, 0, 0, 0, 0, 1.37193, 0, 0, 0],\n",
    "[0, 0, 0, 0, 0, 0, 0, 0, 0, 0, 0, 0, 0],\n",
    "[0, 0, 0, 0, 0, 0, 0, 0, 0, 0, 0, 0.9591, 1.2927],\n",
    "[0, 0, 0, 0, 0, 0, 0, 0, 0, 0, 0, 0, 0],\n",
    "[0, 0, 0, 0, 0, 0, 0, 0, 0, 0, 0, 0, 0]])\n",
    "\n",
    "# A_ij: Adjacency matrix; A_ij = 1 if i is parent of j\n",
    "A = np.array([\n",
    "[0, 1, 0, 0, 0, 0, 0, 0, 0, 0, 0, 0, 0],\n",
    "[0, 0, 1, 0, 1, 0, 1, 0, 0, 0, 0, 0, 0],\n",
    "[0, 0, 0, 1, 0, 0, 0, 0, 0, 0, 0, 0, 0],\n",
    "[0, 0, 0, 0, 0, 0, 0, 0, 0, 0, 0, 0, 0],\n",
    "[0, 0, 0, 0, 0, 1, 0, 0, 0, 0, 0, 0, 0],\n",
    "[0, 0, 0, 0, 0, 0, 0, 0, 0, 0, 0, 0, 0],\n",
    "[0, 0, 0, 0, 0, 0, 0, 1, 1, 0, 1, 0, 0],\n",
    "[0, 0, 0, 0, 0, 0, 0, 0, 0, 0, 0, 0, 0],\n",
    "[0, 0, 0, 0, 0, 0, 0, 0, 0, 1, 0, 0, 0],\n",
    "[0, 0, 0, 0, 0, 0, 0, 0, 0, 0, 0, 0, 0],\n",
    "[0, 0, 0, 0, 0, 0, 0, 0, 0, 0, 0, 1, 1],\n",
    "[0, 0, 0, 0, 0, 0, 0, 0, 0, 0, 0, 0, 0],\n",
    "[0, 0, 0, 0, 0, 0, 0, 0, 0, 0, 0, 0, 0]])\n",
    "\n",
    "# Set Data\n",
    "# List of node indices\n",
    "j_idx = np.arange(13)\n",
    "\n",
    "# \\rho(j): Parent node of node j\n",
    "rho = np.array([0, 0, 1, 2, 1, 4, 1, 6, 6, 8, 6, 10, 10])"
   ]
  },
  {
   "cell_type": "markdown",
   "metadata": {},
   "source": [
    "### 2. Plot activate and reactive power consumption at each node\n",
    "This will help provide better intuition for our data."
   ]
  },
  {
   "cell_type": "code",
   "execution_count": 3,
   "metadata": {},
   "outputs": [
    {
     "data": {
      "image/png": "[encoded data removed]",
      "text/plain": [
       "<Figure size 1200x320 with 1 Axes>"
      ]
     },
     "metadata": {},
     "output_type": "display_data"
    }
   ],
   "source": [
    "# Plot active and reactive power consumption\n",
    "plt.figure(num=1, figsize=(15, 4), dpi=80, facecolor='w', edgecolor='k')\n",
    " \n",
    "# create plot\n",
    "width = 0.2\n",
    "plt.bar(j_idx - width, l_P, width,\n",
    "                 color='b',\n",
    "                 label='Active Power (MW)')\n",
    "plt.bar(j_idx, l_Q, width,\n",
    "                 color='g',\n",
    "                 label='Reactive Power (MVAR)')\n",
    "plt.xticks(j_idx)\n",
    "plt.xlabel('Node index number (J)')\n",
    "plt.ylabel('Power Consumption [p.u./MW]')\n",
    "plt.title('Power Consumption per node')\n",
    "plt.legend()\n",
    "plt.show()"
   ]
  },
  {
   "cell_type": "markdown",
   "metadata": {},
   "source": [
    "### 3. Simple model - balance supply and demand only\n",
    "Since the task at hand is non-trivial, I will first break it down into a simpler problem. Here I will disregard the entire network diagram. That is, I seek to balance active & reactive power supply & demand, while\n",
    "minimizing generation cost and completely ignoring line losses and constraints. Instead, I will balance supply and demand without network considerations. The goal is to minimize generation costs, given by $c^Ts$. This is achieved by using the `cvxpy` package."
   ]
  },
  {
   "cell_type": "code",
   "execution_count": 4,
   "metadata": {},
   "outputs": [
    {
     "data": {
      "text/plain": [
       "255.35860662961574"
      ]
     },
     "execution_count": 4,
     "metadata": {},
     "output_type": "execute_result"
    }
   ],
   "source": [
    "# Solve with CVXPY\n",
    "\n",
    "# Define optimization vars\n",
    "p = Variable(13)\n",
    "q = Variable(13)\n",
    "s = Variable(13)\n",
    "\n",
    "# Define objective function\n",
    "objective = Minimize(c*s)\n",
    "\n",
    "# Define constraints\n",
    "# Apparent Power Limits\n",
    "constraints = [s <= s_max]\n",
    "\n",
    "# Balance power generation with power consumption\n",
    "constraints += [sum(p) == sum(l_P), sum(q) == sum(l_Q)]\n",
    "\n",
    "# Loop over each node\n",
    "for jj in j_idx:\n",
    "    \n",
    "    # Non-negative power generation\n",
    "    constraints += [p[jj] >= 0, q[jj] >= 0]\n",
    "    # Compute apparent power from active & reactive power\n",
    "    constraints += [norm(vstack((p[jj],q[jj]))) <= s[jj]]\n",
    "    \n",
    "# Define problem and solve\n",
    "balance_only = Problem(objective, constraints)\n",
    "balance_only.solve()"
   ]
  },
  {
   "cell_type": "code",
   "execution_count": 5,
   "metadata": {},
   "outputs": [
    {
     "name": "stdout",
     "output_type": "stream",
     "text": [
      "------------------ NO NETWORK --------------------\n",
      "--------------------------------------------------\n",
      "optimal\n",
      "Minimum Generating Cost : 255.36 USD\n",
      " \n",
      "Node 0 [Grid]  Gen Power : p_0 = 0.901 MW | q_0 = 0.546 MW | s_0 = 1.054 MW || mu_s0 = 0.0 USD/MW\n",
      "Node 3 [Gas]   Gen Power : p_3 = 0.0 MW | q_3 = 0.0 MW | s_0 = 0.0 MW || mu_s3 = 0.0 USD/MW\n",
      "Node 9 [Solar] Gen Power : p_3 = 2.565 MW | q_3 = 1.556 MW | s_0 = 3.0 MW || mu_s9 = 50.0 USD/MW\n",
      " \n",
      "Total active power   : 3.466 MW   consumed | 3.466 MW   generated\n",
      "Total reactive power : 2.102 MVAr consumed | 2.102 MVAr generated\n",
      "Total apparent power : 4.063 MVA  consumed | 4.054 MVA  generated\n",
      " \n"
     ]
    }
   ],
   "source": [
    "# Output Results\n",
    "print(\"------------------ NO NETWORK --------------------\")\n",
    "print(\"--------------------------------------------------\")\n",
    "print(balance_only.status)\n",
    "print(f\"Minimum Generating Cost : {np.round(balance_only.value, 2)} USD\")\n",
    "print(\" \")\n",
    "print(f\"Node 0 [Grid]  Gen Power : p_0 = {np.round(p[0].value, 3)} MW | q_0 = {np.round(q[0].value, 3)} MW | s_0 = {np.round(s[0].value, 3)} MW || mu_s0 = {np.round(constraints[0].dual_value[0])} USD/MW\")\n",
    "print(f\"Node 3 [Gas]   Gen Power : p_3 = {np.round(p[3].value, 3)} MW | q_3 = {np.round(q[3].value, 3)} MW | s_0 = {np.round(s[3].value, 3)} MW || mu_s3 = {np.round(constraints[0].dual_value[3])} USD/MW\")\n",
    "print(f\"Node 9 [Solar] Gen Power : p_3 = {np.round(p[9].value, 3)} MW | q_3 = {np.round(q[9].value, 3)} MW | s_0 = {np.round(s[9].value, 3)} MW || mu_s9 = {np.round(constraints[0].dual_value[9])} USD/MW\")\n",
    "print(\" \")\n",
    "print(f\"Total active power   : {np.round(np.sum(l_P), 3)} MW   consumed | {np.round(np.sum(p.value), 3)} MW   generated\")\n",
    "print(f\"Total reactive power : {np.round(np.sum(l_Q), 3)} MVAr consumed | {np.round(np.sum(q.value), 3)} MVAr generated\")\n",
    "print(f\"Total apparent power : {np.round(np.sum(l_S), 3)} MVA  consumed | {np.round(np.sum(s.value), 3)} MVA  generated\")\n",
    "print(\" \")"
   ]
  },
  {
   "cell_type": "markdown",
   "metadata": {},
   "source": [
    "### 4. Add power line flows\n",
    "I'm building up to the full model. Next, I add line power flows $P_{ij}$, $Q_{ij}$ but still neglect the nodal voltage $V_j$ and $L_{ij}$ terms. "
   ]
  },
  {
   "cell_type": "code",
   "execution_count": 6,
   "metadata": {},
   "outputs": [
    {
     "data": {
      "text/plain": [
       "255.3586066145166"
      ]
     },
     "execution_count": 6,
     "metadata": {},
     "output_type": "execute_result"
    }
   ],
   "source": [
    "# Assumptions:\n",
    "#   - Disregard L_ij, the squared magnitude of complex line current\n",
    "#   - Disregard nodal voltage equation\n",
    "#   - Disregard nodal voltage limits\n",
    "#   - Disregard maximum line current\n",
    "#   - Goal is to minimize generation costs, given by c^T s\n",
    "\n",
    "# Solve with CVXPY\n",
    "p = Variable(13)\n",
    "q = Variable(13)\n",
    "s = Variable(13)\n",
    "P = Variable((13, 13))\n",
    "Q = Variable((13, 13))\n",
    "\n",
    "# Define objective function\n",
    "objective = Minimize(c*s)\n",
    "\n",
    "# Define constraints\n",
    "# Apparent Power Limits\n",
    "constraints = [s <= s_max]\n",
    "\n",
    "# Boundary condition for power line flows\n",
    "constraints += [P[0,0] == 0, Q[0,0] == 0]\n",
    "\n",
    "# Loop over each node\n",
    "for jj in j_idx:\n",
    "    \n",
    "    # Parent node, i = \\rho(j)\n",
    "    ii = rho[jj]\n",
    "    \n",
    "    # Line Power Flows\n",
    "    constraints += [P[ii,jj] == l_P[jj] - p[jj] + A[jj,:]*P[jj,:].T,\n",
    "                    Q[ii,jj] == l_Q[jj] - q[jj] + A[jj,:]*Q[jj,:].T]\n",
    "\n",
    "    # Compute apparent power from active & reactive power\n",
    "    constraints += [norm(vstack((p[jj], q[jj]))) <= s[jj]]\n",
    "\n",
    "# Define problem and solve\n",
    "line_flows = Problem(objective, constraints)\n",
    "line_flows.solve()\n"
   ]
  },
  {
   "cell_type": "code",
   "execution_count": 7,
   "metadata": {},
   "outputs": [
    {
     "name": "stdout",
     "output_type": "stream",
     "text": [
      "---------------- LINE FLOWS ONLY -----------------\n",
      "--------------------------------------------------\n",
      "optimal\n",
      "Minimum Generating Cost : 255.36 USD\n",
      " \n",
      "Node 0 [Grid]  Gen Power : p_0 = 0.901 MW | q_0 = 0.546 MW | s_0 = 1.054 MW || mu_s0 = 0.0 USD/MW\n",
      "Node 3 [Gas]   Gen Power : p_3 = 0.0 MW | q_3 = 0.0 MW | s_0 = 0.0 MW || mu_s3 = 0.0 USD/MW\n",
      "Node 9 [Solar] Gen Power : p_3 = 2.565 MW | q_3 = 1.556 MW | s_0 = 3.0 MW || mu_s9 = 50.0 USD/MW\n",
      " \n",
      "Total active power   : 3.466 MW   consumed | 3.466 MW   generated\n",
      "Total reactive power : 2.102 MVAr consumed | 2.102 MVAr generated\n",
      "Total apparent power : 4.063 MVA  consumed | 4.054 MVA  generated\n",
      " \n"
     ]
    }
   ],
   "source": [
    "# Output Results\n",
    "print(\"---------------- LINE FLOWS ONLY -----------------\")\n",
    "print(\"--------------------------------------------------\")\n",
    "print(line_flows.status)\n",
    "print(f\"Minimum Generating Cost : {np.round(line_flows.value, 2)} USD\")\n",
    "print(\" \")\n",
    "print(f\"Node 0 [Grid]  Gen Power : p_0 = {np.round(p[0].value, 3)} MW | q_0 = {np.round(q[0].value, 3)} MW | s_0 = {np.round(s[0].value, 3)} MW || mu_s0 = {np.round(constraints[0].dual_value[0])} USD/MW\")\n",
    "print(f\"Node 3 [Gas]   Gen Power : p_3 = {np.round(p[3].value, 3)} MW | q_3 = {np.round(q[3].value, 3)} MW | s_0 = {np.round(s[3].value, 3)} MW || mu_s3 = {np.round(constraints[0].dual_value[3])} USD/MW\")\n",
    "print(f\"Node 9 [Solar] Gen Power : p_3 = {np.round(p[9].value, 3)} MW | q_3 = {np.round(q[9].value, 3)} MW | s_0 = {np.round(s[9].value, 3)} MW || mu_s9 = {np.round(constraints[0].dual_value[9])} USD/MW\")\n",
    "print(\" \")\n",
    "print(f\"Total active power   : {np.round(np.sum(l_P), 3)} MW   consumed | {np.round(np.sum(p.value), 3)} MW   generated\")\n",
    "print(f\"Total reactive power : {np.round(np.sum(l_Q), 3)} MVAr consumed | {np.round(np.sum(q.value), 3)} MVAr generated\")\n",
    "print(f\"Total apparent power : {np.round(np.sum(l_S), 3)} MVA  consumed | {np.round(np.sum(s.value), 3)} MVA  generated\")\n",
    "print(\" \")"
   ]
  },
  {
   "cell_type": "markdown",
   "metadata": {},
   "source": [
    "### 5. Full economic dispatch with DistFlow equations\n",
    "Now I'm ready to solve the full economic dispatch. I now add the nodal voltages $V_j$, squared current magnitudes $L_{ij}$, and their bounds. This incorporates impedance (i.e. losses) across the network, along with nodal voltage and line transmission limits."
   ]
  },
  {
   "cell_type": "code",
   "execution_count": 8,
   "metadata": {},
   "outputs": [
    {
     "data": {
      "text/plain": [
       "299.6867745233192"
      ]
     },
     "execution_count": 8,
     "metadata": {},
     "output_type": "execute_result"
    }
   ],
   "source": [
    "# Assumptions:\n",
    "#   - Add back all previously disregarded terms and constraints\n",
    "#   - Relax squared line current equation into inequality\n",
    "#   - Goal is to minimize generation costs, given by c^T s\n",
    "\n",
    "# Define optimization vars\n",
    "p = Variable(13)\n",
    "q = Variable(13)\n",
    "s = Variable(13)\n",
    "P = Variable((13,13))\n",
    "Q = Variable((13,13))\n",
    "L = Variable((13,13))\n",
    "V = Variable(13)\n",
    "\n",
    "# Define objective function\n",
    "objective = Minimize(c*s)\n",
    "\n",
    "# Define constraints\n",
    "# Apparent Power Limits\n",
    "constraints = [s <= s_max]\n",
    "\n",
    "# Nodal voltage limits\n",
    "constraints += [v_min**2 <= V,\n",
    "                V <= v_max**2]\n",
    "\n",
    "# Squared line current limits\n",
    "constraints += [L <= I_max**2]\n",
    "\n",
    "# Boundary condition for power line flows\n",
    "constraints += [P[0,0] == 0,\n",
    "                Q[0,0] == 0]\n",
    "\n",
    "# Boundary condition for squared line current\n",
    "constraints += [L[0,0] == 0]\n",
    "\n",
    "# Fix node 0 voltage to be 1 \"per unit\" (p.u.)\n",
    "constraints += [V[0] == 1]\n",
    "\n",
    "# Loop over each node\n",
    "for jj in j_idx:\n",
    "    \n",
    "    # Parent node, i = \\rho(j)\n",
    "    ii = rho[jj]\n",
    "    \n",
    "    # Line Power Flows\n",
    "    constraints += [P[ii,jj] == l_P[jj] - p[jj] + r[ii,jj]*L[ii,jj] + A[jj,:]*P[jj,:].T,\n",
    "                    Q[ii,jj] == l_Q[jj] - q[jj] + x[ii,jj]*L[ii,jj] + A[jj,:]*Q[jj,:].T]\n",
    "\n",
    "    # Nodal voltage\n",
    "    constraints += [V[jj] == V[ii] + (r[ii,jj]**2 + x[ii,jj]**2)*L[ii,jj] - \n",
    "                    2*(r[ii,jj]*P[ii,jj] + x[ii,jj]*Q[ii,jj])]\n",
    "    \n",
    "    # Squared current magnitude on lines\n",
    "    constraints += [L[ii,jj] >= quad_over_lin(vstack((P[ii,jj],Q[ii,jj])),V[jj])]\n",
    "    \n",
    "    # Compute apparent power from active & reactive power\n",
    "    constraints += [norm(vstack((p[jj],q[jj]))) <= s[jj]]\n",
    "    \n",
    "\n",
    "# Define problem and solve\n",
    "full_network = Problem(objective, constraints)\n",
    "full_network.solve()"
   ]
  },
  {
   "cell_type": "code",
   "execution_count": 9,
   "metadata": {},
   "outputs": [
    {
     "name": "stdout",
     "output_type": "stream",
     "text": [
      "----------------- FULL NETWORK -------------------\n",
      "--------------------------------------------------\n",
      "optimal\n",
      "Minimum Generating Cost : 299.69 USD\n",
      " \n",
      "Node 0 [Grid]  Gen Power : p_0 = 1.568 MW | q_0 = 0.985 MW | s_0 = 1.852 MW || mu_s0 = 0.0 USD/MW\n",
      "Node 3 [Gas]   Gen Power : p_3 = -0.0 MW | q_3 = 0.0 MW | s_0 = 0.0 MW || mu_s3 = 0.0 USD/MW\n",
      "Node 9 [Solar] Gen Power : p_3 = 1.941 MW | q_3 = 1.216 MW | s_0 = 2.29 MW || mu_s9 = 0.0 USD/MW\n",
      " \n",
      "Total active power   : 3.466 MW   consumed | 3.509 MW   generated\n",
      "Total reactive power : 2.102 MVAr consumed | 2.201 MVAr generated\n",
      "Total apparent power : 4.063 MVA  consumed | 4.142 MVA  generated\n",
      " \n",
      "Node 0 Voltage : 1.0 p.u.\n",
      "Node 1 Voltage : 0.967 p.u.\n",
      "Node 2 Voltage : 0.963 p.u.\n",
      "Node 3 Voltage : 0.963 p.u.\n",
      "Node 4 Voltage : 0.962 p.u.\n",
      "Node 5 Voltage : 0.96 p.u.\n",
      "Node 6 Voltage : 0.957 p.u.\n",
      "Node 7 Voltage : 0.957 p.u.\n",
      "Node 8 Voltage : 0.957 p.u.\n",
      "Node 9 Voltage : 0.964 p.u.\n",
      "Node 10 Voltage : 0.955 p.u.\n",
      "Node 11 Voltage : 0.954 p.u.\n",
      "Node 12 Voltage : 0.953 p.u.\n"
     ]
    }
   ],
   "source": [
    "# Output Results\n",
    "print(\"----------------- FULL NETWORK -------------------\")\n",
    "print(\"--------------------------------------------------\")\n",
    "print(full_network.status)\n",
    "print(f\"Minimum Generating Cost : {np.round(full_network.value, 2)} USD\")\n",
    "print(\" \")\n",
    "print(f\"Node 0 [Grid]  Gen Power : p_0 = {np.round(p[0].value, 3)} MW | q_0 = {np.round(q[0].value, 3)} MW | s_0 = {np.round(s[0].value, 3)} MW || mu_s0 = {np.round(constraints[0].dual_value[0])} USD/MW\")\n",
    "print(f\"Node 3 [Gas]   Gen Power : p_3 = {np.round(p[3].value, 3)} MW | q_3 = {np.round(q[3].value, 3)} MW | s_0 = {np.round(s[3].value, 3)} MW || mu_s3 = {np.round(constraints[0].dual_value[3])} USD/MW\")\n",
    "print(f\"Node 9 [Solar] Gen Power : p_3 = {np.round(p[9].value, 3)} MW | q_3 = {np.round(q[9].value, 3)} MW | s_0 = {np.round(s[9].value, 3)} MW || mu_s9 = {np.round(constraints[0].dual_value[9])} USD/MW\")\n",
    "print(\" \")\n",
    "print(f\"Total active power   : {np.round(np.sum(l_P), 3)} MW   consumed | {np.round(np.sum(p.value), 3)} MW   generated\")\n",
    "print(f\"Total reactive power : {np.round(np.sum(l_Q), 3)} MVAr consumed | {np.round(np.sum(q.value), 3)} MVAr generated\")\n",
    "print(f\"Total apparent power : {np.round(np.sum(l_S), 3)} MVA  consumed | {np.round(np.sum(s.value), 3)} MVA  generated\")\n",
    "print(\" \")\n",
    "for jj in j_idx:\n",
    "    print(f\"Node {jj} Voltage : {np.round((V[jj].value)**0.5, 3)} p.u.\")"
   ]
  },
  {
   "cell_type": "markdown",
   "metadata": {},
   "source": [
    "### 6. Robust economic dispatch with variable renewables sources\n",
    "So far, I've explored a network that includes only non-renewable sources. In these scenarios, the generating capacity of each source is known. Now, we assume renewables are available, which have an unknown generating capacity. More specifically, I assume there's now a solar generator at node 9 that is comprised of two solar panels, A and B. The output of each panel is uncertain, and weather dependent."
   ]
  },
  {
   "cell_type": "code",
   "execution_count": 10,
   "metadata": {},
   "outputs": [
    {
     "data": {
      "text/plain": [
       "308.72071356743197"
      ]
     },
     "execution_count": 10,
     "metadata": {},
     "output_type": "execute_result"
    }
   ],
   "source": [
    "# Assumptions:\n",
    "#   - Assume solar generator at node 9 has uncertain power capacity\n",
    "#   - Goal is to minimize generation costs, given by c^T s, in face of uncertainty\n",
    "\n",
    "# Second order cone constraint parameters\n",
    "a_bar = np.array([[1.], [-1.25], [-1.25]])\n",
    "E = np.diag([0, 0.25, 0.25])\n",
    "b = 0\n",
    "\n",
    "# Solve with CVXPY\n",
    "\n",
    "# Define optimization vars\n",
    "p = Variable(13)\n",
    "q = Variable(13)\n",
    "s = Variable(13)\n",
    "P = Variable((13,13))\n",
    "Q = Variable((13,13))\n",
    "L = Variable((13,13))\n",
    "V = Variable(13)\n",
    "sig = Variable(2)\n",
    "\n",
    "# Define objective function\n",
    "objective = Minimize(c*s)\n",
    "\n",
    "# Define constraints\n",
    "# Apparent Power Limits\n",
    "constraints = [s <= s_max]\n",
    "\n",
    "# Nodal voltage limits\n",
    "constraints += [v_min**2 <= V,\n",
    "                V <= v_max**2]\n",
    "\n",
    "# Squared line current limits\n",
    "constraints += [L <= I_max**2]\n",
    "\n",
    "# Second order cone constraint for solar generator on node 9\n",
    "constraints += [a_bar.T * vstack([s[9], sig[0], sig[1]]) + norm(E.T * vstack([s[9], sig[0], sig[1]])) <= b,\n",
    "                0 <= sig,\n",
    "                sig <= 1]\n",
    "\n",
    "# Boundary condition for power line flows\n",
    "constraints += [P[0,0] == 0,\n",
    "                Q[0,0] == 0]\n",
    "\n",
    "# Boundary condition for squared line current\n",
    "constraints += [L[0,0] == 0]\n",
    "\n",
    "# Fix node 0 voltage to be 1 \"per unit\" (p.u.)\n",
    "constraints += [V[0] == 1]\n",
    "\n",
    "# Loop over each node\n",
    "for jj in j_idx:\n",
    "    \n",
    "    # Parent node, i = \\rho(j)\n",
    "    ii = rho[jj]\n",
    "    \n",
    "    # Line Power Flows\n",
    "    constraints += [P[ii,jj] == l_P[jj] - p[jj] + r[ii,jj]*L[ii,jj] + A[jj,:]*P[jj,:].T,\n",
    "                    Q[ii,jj] == l_Q[jj] - q[jj] + x[ii,jj]*L[ii,jj] + A[jj,:]*Q[jj,:].T]\n",
    "\n",
    "    # Nodal voltage\n",
    "    constraints += [V[jj] == V[ii] + (r[ii,jj]**2 + x[ii,jj]**2)*L[ii,jj] - 2*(r[ii,jj]*P[ii,jj] + x[ii,jj]*Q[ii,jj])]\n",
    "    \n",
    "    # Squared current magnitude on lines\n",
    "    constraints += [L[ii,jj] >= quad_over_lin(vstack([P[ii,jj],Q[ii,jj]]),V[jj])]\n",
    "    \n",
    "    # Compute apparent power from active & reactive power\n",
    "    constraints += [norm(vstack([p[jj],q[jj]])) <= s[jj]]\n",
    "    \n",
    "\n",
    "# Define problem and solve\n",
    "robust_with_renewables = Problem(objective, constraints)\n",
    "robust_with_renewables.solve()"
   ]
  },
  {
   "cell_type": "code",
   "execution_count": 11,
   "metadata": {},
   "outputs": [
    {
     "name": "stdout",
     "output_type": "stream",
     "text": [
      "------ ROBUST OPTIMIZATION WITH RENEWABLES -------\n",
      "--------------------------------------------------\n",
      "optimal\n",
      "Minimum Generating Cost : 308.72 USD\n",
      " \n",
      "Node 0 [Grid]  Gen Power : p_0 = 1.745 MW | q_0 = 1.006 MW | s_0 = 2.014 MW || mu_s0 = 0.0 USD/MW\n",
      "Node 3 [Gas]   Gen Power : p_3 = 0.0 MW | q_3 = 0.0 MW | s_0 = -0.0 MW || mu_s3 = 0.0 USD/MW\n",
      "Node 9 [Solar] Gen Power : p_3 = 1.77 MW | q_3 = 1.215 MW | s_0 = 2.146 MW || mu_s9 = 0.0 USD/MW\n",
      " \n",
      "Total active power   : 3.466 MW   consumed | 3.514 MW   generated\n",
      "Total reactive power : 2.102 MVAr consumed | 2.221 MVAr generated\n",
      "Total apparent power : 4.063 MVA  consumed | 4.16 MVA  generated\n",
      " \n",
      "Node 0 Voltage : 1.0 p.u.\n",
      "Node 1 Voltage : 0.965 p.u.\n",
      "Node 2 Voltage : 0.961 p.u.\n",
      "Node 3 Voltage : 0.961 p.u.\n",
      "Node 4 Voltage : 0.96 p.u.\n",
      "Node 5 Voltage : 0.958 p.u.\n",
      "Node 6 Voltage : 0.954 p.u.\n",
      "Node 7 Voltage : 0.954 p.u.\n",
      "Node 8 Voltage : 0.954 p.u.\n",
      "Node 9 Voltage : 0.96 p.u.\n",
      "Node 10 Voltage : 0.952 p.u.\n",
      "Node 11 Voltage : 0.951 p.u.\n",
      "Node 12 Voltage : 0.95 p.u.\n"
     ]
    }
   ],
   "source": [
    "print(\"------ ROBUST OPTIMIZATION WITH RENEWABLES -------\")\n",
    "print(\"--------------------------------------------------\")\n",
    "print(robust_with_renewables.status)\n",
    "print(f\"Minimum Generating Cost : {np.round(robust_with_renewables.value, 2)} USD\")\n",
    "print(\" \")\n",
    "print(f\"Node 0 [Grid]  Gen Power : p_0 = {np.round(p[0].value, 3)} MW | q_0 = {np.round(q[0].value, 3)} MW | s_0 = {np.round(s[0].value, 3)} MW || mu_s0 = {np.round(constraints[0].dual_value[0])} USD/MW\")\n",
    "print(f\"Node 3 [Gas]   Gen Power : p_3 = {np.round(p[3].value, 3)} MW | q_3 = {np.round(q[3].value, 3)} MW | s_0 = {np.round(s[3].value, 3)} MW || mu_s3 = {np.round(constraints[0].dual_value[3])} USD/MW\")\n",
    "print(f\"Node 9 [Solar] Gen Power : p_3 = {np.round(p[9].value, 3)} MW | q_3 = {np.round(q[9].value, 3)} MW | s_0 = {np.round(s[9].value, 3)} MW || mu_s9 = {np.round(constraints[0].dual_value[9])} USD/MW\")\n",
    "print(\" \")\n",
    "print(f\"Total active power   : {np.round(np.sum(l_P), 3)} MW   consumed | {np.round(np.sum(p.value), 3)} MW   generated\")\n",
    "print(f\"Total reactive power : {np.round(np.sum(l_Q), 3)} MVAr consumed | {np.round(np.sum(q.value), 3)} MVAr generated\")\n",
    "print(f\"Total apparent power : {np.round(np.sum(l_S), 3)} MVA  consumed | {np.round(np.sum(s.value), 3)} MVA  generated\")\n",
    "print(\" \")\n",
    "for jj in j_idx:\n",
    "    print(f\"Node {jj} Voltage : {np.round((V[jj].value)**0.5, 3)} p.u.\")"
   ]
  },
  {
   "cell_type": "code",
   "execution_count": null,
   "metadata": {},
   "outputs": [],
   "source": []
  }
 ],
 "metadata": {
  "kernelspec": {
   "display_name": "Python 3",
   "language": "python",
   "name": "python3"
  },
  "language_info": {
   "codemirror_mode": {
    "name": "ipython",
    "version": 3
   },
   "file_extension": ".py",
   "mimetype": "text/x-python",
   "name": "python",
   "nbconvert_exporter": "python",
   "pygments_lexer": "ipython3",
   "version": "3.6.2"
  }
 },
 "nbformat": 4,
 "nbformat_minor": 1
}
